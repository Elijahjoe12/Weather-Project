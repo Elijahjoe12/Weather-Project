{
 "cells": [
  {
   "cell_type": "code",
   "execution_count": 1,
   "id": "01f82b38-070f-4047-89d0-1fbe11c768c7",
   "metadata": {},
   "outputs": [],
   "source": [
    "# importing the necessary libraries\n",
    "import requests\n",
    "import pymongo\n",
    "import datetime\n",
    "from pymongo import MongoClient"
   ]
  },
  {
   "cell_type": "code",
   "execution_count": 2,
   "id": "819094e4-8e2a-46d0-9292-315be6c91379",
   "metadata": {},
   "outputs": [],
   "source": [
    "API_KEY = '392b8af66ad74d929a891019253101' # API key for accessing the weather service (replace with your actual key)\n",
    "CITY = 'Lagos'\n",
    "MONGO_URI = 'mongodb://127.0.0.1:27017/'  # MongoDB connection URI (local database in this case)\n",
    "DB_NAME = 'weather_db'\n",
    "COLLECTION_NAME = 'weather_data'\n"
   ]
  },
  {
   "cell_type": "code",
   "execution_count": 5,
   "id": "5fca824a-1264-4a87-b95f-94110bdf7dc7",
   "metadata": {},
   "outputs": [],
   "source": [
    "# Step 1: Extract the data\n",
    "def extract_weather_data():\n",
    "    url = f'https://api.weatherapi.com/v1/forecast.json?key={API_KEY}&q={CITY}&days=7'\n",
    "    response = requests.get(url)\n",
    "    \n",
    "    if response.status_code == 200:\n",
    "        return response.json()  # Converting the response to JSON\n",
    "    else:\n",
    "        print(f\"Error fetching weather data: {response.status_code}\")\n",
    "        return None"
   ]
  },
  {
   "cell_type": "code",
   "execution_count": 7,
   "id": "f4909ca7-8c2d-4364-883b-f5a2f415dbc1",
   "metadata": {},
   "outputs": [
    {
     "name": "stdout",
     "output_type": "stream",
     "text": [
      "[{'date': '2025-03-30', 'favorable': False, 'temperature': 29.3, 'rain': 0.52}, {'date': '2025-03-31', 'favorable': False, 'temperature': 29.3, 'rain': 1.49}]\n"
     ]
    }
   ],
   "source": [
    "# Step 2: Transform the data\n",
    "def transform_weather_data(weather_data):\n",
    "    if not weather_data:\n",
    "        print(\"No weather data provided.\")\n",
    "        return None\n",
    "\n",
    "    today = datetime.datetime.now().date()\n",
    "    favorable_days = []\n",
    "\n",
    "    # Check forecast for the next 7 days\n",
    "    for forecast in weather_data.get('forecast', {}).get('forecastday', []):\n",
    "        forecast_date = datetime.datetime.strptime(forecast['date'], '%Y-%m-%d').date()\n",
    "        \n",
    "        if forecast_date > today:  # Ensure we are checking next week's forecast\n",
    "            temperature = forecast['day']['avgtemp_c']\n",
    "            rain = forecast['day']['totalprecip_mm']\n",
    "\n",
    "            favorable = 20 <= temperature <= 30 and rain == 0  # Favorable conditions\n",
    "            \n",
    "            favorable_days.append({\n",
    "                'date': forecast['date'],\n",
    "                'favorable': favorable,\n",
    "                'temperature': temperature,\n",
    "                'rain': rain\n",
    "            })\n",
    "\n",
    "    return favorable_days\n",
    "\n",
    "# Fetch weather data\n",
    "weather_data = extract_weather_data()\n",
    "\n",
    "# Process weather data\n",
    "result = transform_weather_data(weather_data)\n",
    "print(result)"
   ]
  },
  {
   "cell_type": "code",
   "execution_count": null,
   "id": "985d4722-c301-4bd8-9c2a-8c646aa448c9",
   "metadata": {},
   "outputs": [],
   "source": [
    "# Step 3: Load - Store the processed data in MongoDB\n",
    "def load_to_mongodb(data):\n",
    "    if not data:\n",
    "        print(\"No data to load into MongoDB.\")\n",
    "        return\n",
    "\n",
    "    client = MongoClient(MONGO_URI)\n",
    "    db = client[DB_NAME]\n",
    "    collection = db[COLLECTION_NAME]\n",
    "\n",
    "    # Insert the data into MongoDB\n",
    "    collection.insert_many(data)\n",
    "    print(\"Data successfully loaded into MongoDB.\")\n",
    "\n",
    "# Run the ETL Process\n",
    "def run_etl():\n",
    "    print(\"Starting ETL Process...\")\n",
    "    \n",
    "    # Extract\n",
    "    weather_data = extract_weather_data()\n",
    "    \n",
    "    # Transform\n",
    "    transformed_data = transform_weather_data(weather_data)\n",
    "    \n",
    "    # Load\n",
    "    load_to_mongodb(transformed_data)\n",
    "    \n",
    "    print(\"ETL Process completed.\")\n",
    "\n",
    "# Execute the ETL process\n",
    "if __name__ == '__main__':\n",
    "    run_etl()\n",
    "\n",
    "\n"
   ]
  }
 ],
 "metadata": {
  "kernelspec": {
   "display_name": "Python [conda env:base] *",
   "language": "python",
   "name": "conda-base-py"
  },
  "language_info": {
   "codemirror_mode": {
    "name": "ipython",
    "version": 3
   },
   "file_extension": ".py",
   "mimetype": "text/x-python",
   "name": "python",
   "nbconvert_exporter": "python",
   "pygments_lexer": "ipython3",
   "version": "3.12.4"
  }
 },
 "nbformat": 4,
 "nbformat_minor": 5
}
